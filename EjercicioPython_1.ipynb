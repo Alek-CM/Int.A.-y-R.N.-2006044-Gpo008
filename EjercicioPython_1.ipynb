{
  "nbformat": 4,
  "nbformat_minor": 0,
  "metadata": {
    "colab": {
      "provenance": [],
      "authorship_tag": "ABX9TyOY8H9faSS+ymfiyZWFN1YA",
      "include_colab_link": true
    },
    "kernelspec": {
      "name": "python3",
      "display_name": "Python 3"
    },
    "language_info": {
      "name": "python"
    }
  },
  "cells": [
    {
      "cell_type": "markdown",
      "metadata": {
        "id": "view-in-github",
        "colab_type": "text"
      },
      "source": [
        "<a href=\"https://colab.research.google.com/github/Alek-CM/Int.A.-y-R.N.-2006044-Gpo008/blob/main/EjercicioPython_1.ipynb\" target=\"_parent\"><img src=\"https://colab.research.google.com/assets/colab-badge.svg\" alt=\"Open In Colab\"/></a>"
      ]
    },
    {
      "cell_type": "code",
      "execution_count": 4,
      "metadata": {
        "colab": {
          "base_uri": "https://localhost:8080/"
        },
        "id": "77lvx0IQgPCE",
        "outputId": "3fb2c67f-f27d-41f1-a1e2-d7b0a9cd3cf5"
      },
      "outputs": [
        {
          "output_type": "stream",
          "name": "stdout",
          "text": [
            "Por favor, ingresa tu nombre: Carlos\n",
            "Bienvenido Carlos\n"
          ]
        }
      ],
      "source": [
        "nombre = input(\"Por favor, ingresa tu nombre: \")\n",
        "if nombre == \"Ana\" or nombre == \"Juan\" or nombre == \"Pedro\":\n",
        "    print(\"Estimado usuario su nombre esta muy feo asi que me abstendre de usarlo...Bienbenido\")\n",
        "else:\n",
        "    print(f\"Bienvenido {nombre}\")"
      ]
    },
    {
      "cell_type": "code",
      "source": [
        "def atsil():  #atsil=lista pero invertida :D\n",
        "    n = int(input(\"¿Cual sera la extension de la lista? \"))\n",
        "    lista = []\n",
        "    for i in range(n):\n",
        "        Cosa = input(f\"Ingrese el Numero/Objeto/Nombre/etc. {i+1}: \")\n",
        "        lista.append(Cosa)\n",
        "    atsil = lista[::-1]\n",
        "    print(\"Lista invertida es: \", atsil)\n"
      ],
      "metadata": {
        "id": "3d9prfsthNkM"
      },
      "execution_count": 7,
      "outputs": []
    },
    {
      "cell_type": "code",
      "source": [
        "atsil()"
      ],
      "metadata": {
        "colab": {
          "base_uri": "https://localhost:8080/"
        },
        "id": "8_spjei5h98F",
        "outputId": "e0bded44-23a8-47ce-d467-73a67f36d18a"
      },
      "execution_count": 8,
      "outputs": [
        {
          "output_type": "stream",
          "name": "stdout",
          "text": [
            "¿Cual sera la extension de la lista? 10\n",
            "Ingrese el Numero/Objeto/Nombre/etc. 1: Lisa\n",
            "Ingrese el Numero/Objeto/Nombre/etc. 2: 1\n",
            "Ingrese el Numero/Objeto/Nombre/etc. 3: 20\n",
            "Ingrese el Numero/Objeto/Nombre/etc. 4: Piña\n",
            "Ingrese el Numero/Objeto/Nombre/etc. 5: Langosta\n",
            "Ingrese el Numero/Objeto/Nombre/etc. 6: Pez\n",
            "Ingrese el Numero/Objeto/Nombre/etc. 7: Maria\n",
            "Ingrese el Numero/Objeto/Nombre/etc. 8: 100\n",
            "Ingrese el Numero/Objeto/Nombre/etc. 9: Lima\n",
            "Ingrese el Numero/Objeto/Nombre/etc. 10: huevo\n",
            "Lista invertida es:  ['huevo', 'Lima', '100', 'Maria', 'Pez', 'Langosta', 'Piña', '20', '1', 'Lisa']\n"
          ]
        }
      ]
    },
    {
      "cell_type": "code",
      "source": [
        "A=0\n",
        "B=1\n",
        "N=int(input(\"Cuantos numeros de la serie de Fivonacci deseas?: \"))\n",
        "if N>=1:\n",
        "  print(A)\n",
        "if N>=2:\n",
        "  print(B)\n",
        "while N>2:\n",
        "  C=A+B\n",
        "  print(C)\n",
        "  A=B\n",
        "  B=C\n",
        "  N-=1"
      ],
      "metadata": {
        "colab": {
          "base_uri": "https://localhost:8080/"
        },
        "id": "deD3a2c4iv0R",
        "outputId": "00326aaf-455d-4a3b-9279-808d760cf28b"
      },
      "execution_count": 9,
      "outputs": [
        {
          "output_type": "stream",
          "name": "stdout",
          "text": [
            "Cuantos numeros de la serie de Fivonacci deseas?: 10\n",
            "0\n",
            "1\n",
            "1\n",
            "2\n",
            "3\n",
            "5\n",
            "8\n",
            "13\n",
            "21\n",
            "34\n"
          ]
        }
      ]
    },
    {
      "cell_type": "code",
      "source": [
        "\"\"\"Le sere sincero, este codigo no lo pude hacer solo por lo que recibi ayuda como podra notar al momento de comparar\n",
        "la forma de definir las cosas\"\"\"\n",
        "import random\n",
        "def adivina_el_numero():\n",
        "    numero_objetivo = random.randint(1, 100)\n",
        "    intento = None\n",
        "    while intento != numero_objetivo:\n",
        "        intento = int(input(\"Adivina el número (entre 1 y 100): \"))\n",
        "        if intento < numero_objetivo:\n",
        "            print(\"El número es mayor.\")\n",
        "        elif intento > numero_objetivo:\n",
        "            print(\"El número es menor.\")\n",
        "        else:\n",
        "            print(\"DING DING DING el premio mayor!!!\")"
      ],
      "metadata": {
        "id": "xZLEFZ4XkFQp"
      },
      "execution_count": 13,
      "outputs": []
    },
    {
      "cell_type": "code",
      "source": [
        "adivina_el_numero()"
      ],
      "metadata": {
        "colab": {
          "base_uri": "https://localhost:8080/"
        },
        "id": "yE6EDx-mloEU",
        "outputId": "6a752098-1c7f-4254-b816-2b8c75b89162"
      },
      "execution_count": 15,
      "outputs": [
        {
          "output_type": "stream",
          "name": "stdout",
          "text": [
            "Adivina el número (entre 1 y 100): 90\n",
            "El número es menor.\n",
            "Adivina el número (entre 1 y 100): 80\n",
            "El número es menor.\n",
            "Adivina el número (entre 1 y 100): 70\n",
            "El número es menor.\n",
            "Adivina el número (entre 1 y 100): 60\n",
            "El número es menor.\n",
            "Adivina el número (entre 1 y 100): 50\n",
            "El número es mayor.\n",
            "Adivina el número (entre 1 y 100): 55\n",
            "El número es mayor.\n",
            "Adivina el número (entre 1 y 100): 56\n",
            "DING DING DING el premio mayor!!!\n"
          ]
        }
      ]
    },
    {
      "cell_type": "code",
      "source": [
        "N = int(input(\"Ingrese el número más grande del rango de valores que deseas: \"))\n",
        "M = int(input(\"Ingrese el número más pequeño del rango de valores que deseas: \"))\n",
        "if N<M:\n",
        "    print(\"No has ingresado correctamente los datos. El número mayor debe ser mayor que el número menor.\")\n",
        "elif N==M:\n",
        "    print(\"Es el mismo valor, ingrese correctamente los datos.\")\n",
        "else:\n",
        "    while N>=M:\n",
        "        if N==2:\n",
        "          print(N)\n",
        "        if N%2!=0:\n",
        "            print(N)\n",
        "        N-=1"
      ],
      "metadata": {
        "colab": {
          "base_uri": "https://localhost:8080/"
        },
        "id": "5A3bDimAmK82",
        "outputId": "90d203f6-69b0-4bd9-eef1-923da7816d3e"
      },
      "execution_count": 31,
      "outputs": [
        {
          "output_type": "stream",
          "name": "stdout",
          "text": [
            "Ingrese el número más grande del rango de valores que deseas: 30\n",
            "Ingrese el número más pequeño del rango de valores que deseas: 1\n",
            "29\n",
            "27\n",
            "25\n",
            "23\n",
            "21\n",
            "19\n",
            "17\n",
            "15\n",
            "13\n",
            "11\n",
            "9\n",
            "7\n",
            "5\n",
            "3\n",
            "2\n",
            "1\n"
          ]
        }
      ]
    },
    {
      "cell_type": "code",
      "source": [
        "def sumar():\n",
        "    sn1 = float(input(\"Ingrese el primer número: \"))\n",
        "    sn2 = float(input(\"Ingrese el segundo número: \"))\n",
        "    Rs= sn1+sn2\n",
        "    print(Rs)\n",
        "\n",
        "def restar():\n",
        "    Rn1 = float(input(\"Ingrese el primer número: \"))\n",
        "    Rn2 = float(input(\"Ingrese el segundo número: \"))\n",
        "    Rr= Rn1+Rn2\n",
        "    print(Rr)\n",
        "\n",
        "def multiplicar():\n",
        "    Mn1 = float(input(\"Ingrese el primer número: \"))\n",
        "    Mn2 = float(input(\"Ingrese el segundo número: \"))\n",
        "    Rs= Mn1*Mn2\n",
        "    print(Rm)\n",
        "\n",
        "def dividir():\n",
        "    dn1 = float(input(\"Ingrese el primer número: \"))\n",
        "    dn2 = float(input(\"Ingrese el segundo número: \"))\n",
        "    if dn2==0:\n",
        "      print(\"Error matematico\")\n",
        "    else:\n",
        "      Rd=dn1/dn2\n",
        "      print(Rd)\n"
      ],
      "metadata": {
        "id": "VyVCiDMZuNGN"
      },
      "execution_count": 35,
      "outputs": []
    },
    {
      "cell_type": "code",
      "source": [
        "sumar()"
      ],
      "metadata": {
        "colab": {
          "base_uri": "https://localhost:8080/"
        },
        "id": "-BWtlhfZm55p",
        "outputId": "244b9f1b-900e-492a-b98d-abc69247c4d0"
      },
      "execution_count": 36,
      "outputs": [
        {
          "output_type": "stream",
          "name": "stdout",
          "text": [
            "Ingrese el primer número: 3\n",
            "Ingrese el segundo número: 1000\n",
            "1003.0\n"
          ]
        }
      ]
    }
  ]
}